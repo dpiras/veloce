{
 "cells": [
  {
   "cell_type": "markdown",
   "id": "463f4c17",
   "metadata": {},
   "source": [
    "# Emulation\n",
    "Here we show how to use one of our trained emulators to generate a mock covariance matrix, and in the end we also demonstrate the power of just-in-time (JIT) compilation in JAX."
   ]
  },
  {
   "cell_type": "code",
   "execution_count": 1,
   "id": "3758fad4",
   "metadata": {},
   "outputs": [
    {
     "name": "stderr",
     "output_type": "stream",
     "text": [
      "/home/users/p/piras/veloce/velocemu/emulator.py:6: UserWarning: pkg_resources is deprecated as an API. See https://setuptools.pypa.io/en/latest/pkg_resources.html. The pkg_resources package is slated for removal as early as 2025-11-30. Refrain from using this package or pin to Setuptools<81.\n",
      "  import pkg_resources\n"
     ]
    }
   ],
   "source": [
    "import numpy # just to load some files and make the JAX-compatible\n",
    "import jax\n",
    "import jax.numpy as np # we assume you want to use jax, just remove \"jax.\" in case you don't\n",
    "from velocemu.emulator import IntegralEmu\n",
    "from velocemu.utils import reconstruct_symmetric_matrix_from_lower_diagonal"
   ]
  },
  {
   "cell_type": "code",
   "execution_count": 2,
   "id": "ad114cc3",
   "metadata": {},
   "outputs": [],
   "source": [
    "# define the usual cosmological parameters\n",
    "Omat, H0, lnAs = 0.35, 70., 3.1"
   ]
  },
  {
   "cell_type": "code",
   "execution_count": 3,
   "id": "03a5a32c",
   "metadata": {},
   "outputs": [],
   "source": [
    "# need to provide a file with all redshift pairs and angles;\n",
    "# since this is a simple tutorial, we produce a dataset on-the-fly made only of 4 objects\n",
    "\n",
    "z1  = 0.1\n",
    "z2  = 0.2\n",
    "z3  = 1.2\n",
    "z4  = 1.3\n",
    "a12 = 1.0 # rad\n",
    "a13 = 1.1 # rad\n",
    "a14 = 0.7 # rad\n",
    "a23 = 0.1 # rad\n",
    "a24 = 2.0 # rad\n",
    "a34 = 0.1 # rad\n",
    "\n",
    "z_z_alpha = np.array([[z1, z1, 0.],\n",
    "                            [z2, z1, a12],\n",
    "                            [z2, z2, 0.],\n",
    "                            [z3, z1, a13],\n",
    "                            [z3, z2, a23],\n",
    "                            [z3, z3, 0.],\n",
    "                            [z4, z1, a14],\n",
    "                            [z4, z2, a24],\n",
    "                            [z4, z3, a34],\n",
    "                            [z4, z4, 0.]\n",
    "                          ])"
   ]
  },
  {
   "cell_type": "code",
   "execution_count": 4,
   "id": "fafb8756",
   "metadata": {},
   "outputs": [
    {
     "data": {
      "text/plain": [
       "Array([[0.1, 0.1, 0. ],\n",
       "       [0.2, 0.1, 1. ],\n",
       "       [0.2, 0.2, 0. ],\n",
       "       [1.2, 0.1, 1.1],\n",
       "       [1.2, 0.2, 0.1],\n",
       "       [1.2, 1.2, 0. ],\n",
       "       [1.3, 0.1, 0.7],\n",
       "       [1.3, 0.2, 2. ],\n",
       "       [1.3, 1.2, 0.1],\n",
       "       [1.3, 1.3, 0. ]], dtype=float32)"
      ]
     },
     "execution_count": 4,
     "metadata": {},
     "output_type": "execute_result"
    }
   ],
   "source": [
    "z_z_alpha"
   ]
  },
  {
   "cell_type": "code",
   "execution_count": 5,
   "id": "d8f0f25d",
   "metadata": {},
   "outputs": [
    {
     "name": "stderr",
     "output_type": "stream",
     "text": [
      "2025-07-09 01:36:34.737805: W tensorflow/compiler/tf2tensorrt/utils/py_utils.cc:38] TF-TRT Warning: Could not find TensorRT\n"
     ]
    }
   ],
   "source": [
    "# you should change the relative path to point to your clone of this repository\n",
    "integrator = IntegralEmu(z_z_alpha) \n",
    "\n",
    "# this is just to make everything compilable by JAX\n",
    "# i.e. a quick fix\n",
    "unique_rows = numpy.load('./test_unique_rows.npy')\n",
    "inverse_indices = numpy.load('./test_inverse_indices.npy')\n",
    "condition = numpy.load('./test_condition.npy')"
   ]
  },
  {
   "cell_type": "code",
   "execution_count": 6,
   "id": "4a5a760e",
   "metadata": {},
   "outputs": [],
   "source": [
    "cova = reconstruct_symmetric_matrix_from_lower_diagonal(integrator.predict(np.array([Omat,H0,lnAs]),\n",
    "                                                                           unique_rows, \n",
    "                                                                           inverse_indices, \n",
    "                                                                           condition,\n",
    "                                                                           dim1=np.sum(condition),\n",
    "                                                                           dim2=np.sum(~condition)), \n",
    "                                                        4) # 4 is the number of objects"
   ]
  },
  {
   "cell_type": "code",
   "execution_count": 7,
   "id": "b6b47f75",
   "metadata": {},
   "outputs": [
    {
     "name": "stdout",
     "output_type": "stream",
     "text": [
      "[[ 3.5378398e+04  1.5122098e+02 -1.9066612e+00 -2.0086887e+00]\n",
      " [ 1.5122098e+02  3.5085820e+04 -6.5791621e+00  1.6719382e+00]\n",
      " [-1.9066612e+00 -6.5791621e+00  2.5528650e+04 -8.8573708e+01]\n",
      " [-2.0086887e+00  1.6719382e+00 -8.8573708e+01  2.4633096e+04]]\n"
     ]
    }
   ],
   "source": [
    "# and in this way we produced the covariance matrix for these 4 objects\n",
    "print(cova)"
   ]
  },
  {
   "cell_type": "markdown",
   "id": "c86a843a",
   "metadata": {},
   "source": [
    "In this repository, we provide the models that lead to the final results, namely the nonlinear case with fixed $\\sigma_{\\rm u}$. If you are interested in other models, please [raise an issue](https://github.com/dpiras/veloce/issues) or contact [Davide Piras](mailto:dr.davide.piras@gmail.com). Also note that it should be straightforward for you to train your own models using [CosmoPower](https://github.com/alessiospuriomancini/cosmopower), and then add them under `velocemu/trained_models`.\n",
    "\n",
    "Also note that so far we ignored the possibility to JIT-compile the function to massively speed up the computation of the covariance matrix. To do so, we need to compile the function. We show this below."
   ]
  },
  {
   "cell_type": "code",
   "execution_count": 8,
   "id": "cea0418e",
   "metadata": {
    "scrolled": false
   },
   "outputs": [
    {
     "name": "stdout",
     "output_type": "stream",
     "text": [
      "0.39968109130859375\n"
     ]
    }
   ],
   "source": [
    "import time\n",
    "start = time.time()\n",
    "@jax.jit\n",
    "def predict_jit(Omat,H0,lnAs):\n",
    "    return reconstruct_symmetric_matrix_from_lower_diagonal(integrator.predict(np.array([Omat,H0,lnAs]),\n",
    "                                                   unique_rows, \n",
    "                                                   inverse_indices, \n",
    "                                                   condition,\n",
    "                                                   # to compile we hardcode these,\n",
    "                                                   # there is probably a better way but for now\n",
    "                                                   # this will do\n",
    "                                                   dim1=4,#np.sum(condition),\n",
    "                                                   dim2=6),#np.sum(~condition)), \n",
    "                                                        4) # 3 is the number of objects\n",
    "\n",
    "cova=predict_jit(Omat,H0,lnAs)\n",
    "print(time.time()-start)"
   ]
  },
  {
   "cell_type": "code",
   "execution_count": 10,
   "id": "a3f8dfcd",
   "metadata": {},
   "outputs": [
    {
     "name": "stdout",
     "output_type": "stream",
     "text": [
      "0.0001347064971923828\n",
      "[[ 3.5378336e+04  1.5122116e+02 -1.9063989e+00 -2.0086613e+00]\n",
      " [ 1.5122116e+02  3.5085770e+04 -6.5793257e+00  1.6719749e+00]\n",
      " [-1.9063989e+00 -6.5793257e+00  2.5528605e+04 -8.8573303e+01]\n",
      " [-2.0086613e+00  1.6719749e+00 -8.8573303e+01  2.4633037e+04]]\n"
     ]
    }
   ],
   "source": [
    "import time\n",
    "start = time.time()\n",
    "\n",
    "cova=predict_jit(Omat,H0,lnAs)\n",
    "print(time.time()-start)\n",
    "print(cova) # obtaining the same results"
   ]
  },
  {
   "cell_type": "markdown",
   "id": "ea46ac91",
   "metadata": {},
   "source": [
    "In this case, it took ~100 ms vs ~0.5 s the first time; this corresponds to a speed-up of almost 5000x for every new generation of the covariance matrix!"
   ]
  },
  {
   "cell_type": "code",
   "execution_count": null,
   "id": "a6f6fd68",
   "metadata": {},
   "outputs": [],
   "source": []
  }
 ],
 "metadata": {
  "kernelspec": {
   "display_name": "Python 3 (ipykernel)",
   "language": "python",
   "name": "python3"
  },
  "language_info": {
   "codemirror_mode": {
    "name": "ipython",
    "version": 3
   },
   "file_extension": ".py",
   "mimetype": "text/x-python",
   "name": "python",
   "nbconvert_exporter": "python",
   "pygments_lexer": "ipython3",
   "version": "3.11.13"
  }
 },
 "nbformat": 4,
 "nbformat_minor": 5
}
