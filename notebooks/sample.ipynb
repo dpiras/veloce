{
 "cells": [
  {
   "cell_type": "code",
   "execution_count": null,
   "id": "bf313af7",
   "metadata": {},
   "outputs": [],
   "source": [
    "# first we load the data; note this is a subset of the mock used for the data\n",
    "# credits to Francesco Sorrenti (https://fsorrenti.github.io/) for the mock generation"
   ]
  },
  {
   "cell_type": "code",
   "execution_count": 19,
   "id": "2de57482",
   "metadata": {},
   "outputs": [
    {
     "name": "stderr",
     "output_type": "stream",
     "text": [
      "/home/users/p/piras/veloce/velocemu/emulator.py:6: UserWarning: pkg_resources is deprecated as an API. See https://setuptools.pypa.io/en/latest/pkg_resources.html. The pkg_resources package is slated for removal as early as 2025-11-30. Refrain from using this package or pin to Setuptools<81.\n",
      "  import pkg_resources\n"
     ]
    }
   ],
   "source": [
    "import numpy\n",
    "from velocemu.emulator import IntegralEmu"
   ]
  },
  {
   "cell_type": "code",
   "execution_count": 18,
   "id": "934cb223",
   "metadata": {},
   "outputs": [],
   "source": [
    "z_values = numpy.load('../../curl_project/z_mock_1457.npy').astype(float)[:500]\n",
    "mu_values = numpy.load('../../curl_project/mu_mock_1457.npy').astype(float)[:500]\n",
    "error_covariance = np.load(\"../../curl_project/cov_carr_removed_ceph_1457.npy\")[:500, :500]\n",
    "z_z_alpha=numpy.load('/home/users/p/piras/curl_project/z_z_alphas/z_mock_z_mock_alpha_no_cepheid_cleaned.npy')[:125250]"
   ]
  },
  {
   "cell_type": "code",
   "execution_count": 21,
   "id": "e3c1bf4c",
   "metadata": {},
   "outputs": [
    {
     "name": "stderr",
     "output_type": "stream",
     "text": [
      "2025-07-08 23:51:40.327885: W tensorflow/compiler/tf2tensorrt/utils/py_utils.cc:38] TF-TRT Warning: Could not find TensorRT\n"
     ]
    },
    {
     "name": "stdout",
     "output_type": "stream",
     "text": [
      "500 124750\n"
     ]
    }
   ],
   "source": [
    "integrator = IntegralEmu(z_z_alpha)\n",
    "\n",
    "unique_rows = numpy.load('./test_unique_rows.npy')\n",
    "inverse_indices = numpy.load('./test_inverse_indices.npy')\n",
    "condition = numpy.load('./test_condition.npy')\n",
    "\n",
    "print(np.sum(condition), np.sum(~condition))"
   ]
  },
  {
   "cell_type": "code",
   "execution_count": null,
   "id": "1361d780",
   "metadata": {},
   "outputs": [],
   "source": [
    "def log_prior(params):\n",
    "    \"\"\"\n",
    "    Compute the log-prior for 3 parameters with uniform priors.\n",
    "    \"\"\"\n",
    "    # Define the parameter ranges for uniform priors\n",
    "    ranges = np.array([\n",
    "        (0.1, 0.5),  # Range for Omat\n",
    "        (50., 100.),    # Range for H0\n",
    "        (1.5, 4.5),    # Range for lnAs\n",
    "    ])\n",
    "\n",
    "    # Compute log-prior for each parameter\n",
    "    lower_bounds, upper_bounds = ranges[:, 0], ranges[:, 1]\n",
    "    inside_bounds = (params >= lower_bounds) & (params <= upper_bounds)\n",
    "\n",
    "    # Use np.where to avoid TracerBoolConversionError\n",
    "    log_prior_value = np.where(\n",
    "        np.all(inside_bounds),\n",
    "        np.sum(-np.log(upper_bounds - lower_bounds)),\n",
    "        -np.inf\n",
    "    )\n",
    "\n",
    "    return log_prior_value\n",
    "\n",
    "\n",
    "def log_prob_(parameters):\n",
    "    \"\"\"The total log-probability, namely the sum of log-prior and log-likelihood\"\"\"\n",
    "\n",
    "    log_prior_value = log_prior(parameters)    \n",
    "    \n",
    "    def compute_likelihood(_):\n",
    "        Omat, H0, lnAs = parameters \n",
    "        s_estimated, prefactors1 = s_estimator(z_current, mudata, cephdata, is_caldata, H01, Omat, 0.)\n",
    "        \n",
    "        _, prefactors2 = s_estimator(emuz, mudata, cephdata, is_caldata, H02, Omat, 0.)\n",
    "        # Use the outer product to get the full prefactor matrix\n",
    "        prefactor_matrix = np.outer(prefactors2, prefactors2)\n",
    "\n",
    "        cova = reconstruct_symmetric_matrix_from_lower_diagonal(integrator.predict(np.array([Omat,H0,lnAs]), \n",
    "                                                                                   unique_rows, \n",
    "                                                                                   inverse_indices, condition), \n",
    "                                                                500)\n",
    "        f0 = np.real(fz_jax(0, Omat))\n",
    "        cova *= f0**2\n",
    "        \n",
    "        full_covariance=error_covariance+cova/prefactor_matrix\n",
    "\n",
    "        if is_pd(full_covariance)==False:\n",
    "            return -np.inf\n",
    "\n",
    "        log_likelihood = multivariate_normal.logpdf(np.zeros(500), mean=s_estimated/prefactors1, \n",
    "                                                    cov=np.array(full_covariance))\n",
    "    \n",
    "        return log_prior_value + log_likelihood\n",
    "\n",
    "    # to make everything compatible with JAX\n",
    "    return jax.lax.cond(\n",
    "        log_prior_value > -np.inf,  # Check if prior is valid\n",
    "        compute_likelihood,      # Compute likelihood if prior is valid\n",
    "        lambda _: -np.inf,      # Return -inf if prior is invalid\n",
    "        operand=None,\n",
    "    )"
   ]
  },
  {
   "cell_type": "code",
   "execution_count": null,
   "id": "28314b8f",
   "metadata": {},
   "outputs": [],
   "source": []
  },
  {
   "cell_type": "code",
   "execution_count": null,
   "id": "b0fd3ab8",
   "metadata": {},
   "outputs": [],
   "source": [
    "zmock = numpy.load('./z_mock_1457.npy').astype(float)\n",
    "mudata = numpy.load('./mu_mock_1457.npy').astype(float)   # Convert column 1 to float\n",
    "cephdata = np.zeros_like(mudata) # there are no cepheids in this example\n",
    "is_caldata = np.zeros_like(mudata)  # there are no cepheids in this example\n",
    "\n",
    "if analysis == 'zmock':\n",
    "    z_current = zmock\n",
    "\n",
    "if emuanalysis == 'zmock':    \n",
    "    emuz = zmock\n",
    "    # z_mock_z_mock_alpha_cleaned_1106_seed_40_20_z_hel_lower_plus_diagonal_67_035_removing_cepheid_corrected.npy\n",
    "    input_alpha_z_z=numpy.load('/home/users/p/piras/curl_project/z_z_alphas/z_mock_z_mock_alpha_no_cepheid_cleaned.npy')\n",
    "\n",
    "\n",
    "#this is already all the matrix\n",
    "# covariance_pantheon_cleaned_statistical_systematic_filtered_5e5_1106_no_cepheid_correct.npy\n",
    "covf = np.load(\"cov_carr_removed_ceph_1457.npy\")\n",
    "error_covariance = covf"
   ]
  },
  {
   "cell_type": "code",
   "execution_count": null,
   "id": "cd591ef7",
   "metadata": {},
   "outputs": [],
   "source": []
  },
  {
   "cell_type": "code",
   "execution_count": null,
   "id": "ac1e541d",
   "metadata": {},
   "outputs": [],
   "source": [
    "def log_prior(params):\n",
    "    \"\"\"\n",
    "    Compute the log-prior for 6 parameters with uniform priors.\n",
    "\n",
    "    Parameters:\n",
    "        params (array-like): An array of 6 parameters [p1, p2, p3, p4, p5, p6].\n",
    "\n",
    "    Returns:\n",
    "        float: The value of the log-prior.\n",
    "    \"\"\"\n",
    "    # Define the parameter ranges for uniform priors\n",
    "    ranges = np.array([\n",
    "        (0.1, 0.5),  # Range for p1\n",
    "        #(0.1, 0.5),  # Range for p2\n",
    "        (60., 85.),    # Range for p3\n",
    "        #(60., 85.),    # Range for p3\n",
    "        #(1.9, 3.9),  # Range for p4\n",
    "        #(-6, 12.),\n",
    "        (2., 6.),\n",
    "        (-0.5, 0.5)  # Range for p6\n",
    "    ])\n",
    "\n",
    "    # Compute log-prior for each parameter\n",
    "    lower_bounds, upper_bounds = ranges[:, 0], ranges[:, 1]\n",
    "    inside_bounds = (params >= lower_bounds) & (params <= upper_bounds)\n",
    "\n",
    "    # Use np.where to avoid TracerBoolConversionError\n",
    "    log_prior_value = np.where(\n",
    "        np.all(inside_bounds),\n",
    "        np.sum(-np.log(upper_bounds - lower_bounds)),\n",
    "        -np.inf\n",
    "    )\n",
    "\n",
    "    return log_prior_value\n",
    "\n",
    "\n",
    "def log_prob_(parameters):\n",
    "\n",
    "    log_prior_value = log_prior(parameters)    \n",
    "    \n",
    "    def compute_likelihood(_):\n",
    "        Omat, H0, log10eps, dM = parameters\n",
    "        #log10eps = 4.#5.2\n",
    "        eps = 10**log10eps\n",
    "        s_estimated, prefactors1 = s_estimator(z_current, mudata, cephdata, is_caldata, H0, Omat, dM)\n",
    "        \n",
    "        _, prefactors2 = s_estimator(emuz, mudata, cephdata, is_caldata, H0, Omat, dM)\n",
    "        # Use the outer product to get the full prefactor matrix\n",
    "        prefactor_matrix = np.outer(prefactors2, prefactors2)\n",
    "\n",
    "        cova = reconstruct_symmetric_matrix_from_lower_diagonal(integrator.predict(np.array([Omat,H0,3.047]), # 3.047\n",
    "                                                                                   unique_rows, \n",
    "                                                                                   inverse_indices, condition), \n",
    "                                                                1624)\n",
    "        f0 = np.real(fz_jax(0, Omat))\n",
    "        cova *= f0**2\n",
    "        \n",
    "        #ceph_mask = np.outer(1-is_caldata, 1-is_caldata) # OR mask\n",
    "        full_covariance=error_covariance+eps*np.eye(1624)/prefactor_matrix+cova/prefactor_matrix\n",
    "\n",
    "        if is_pd(full_covariance)==False:\n",
    "            return -np.inf\n",
    "\n",
    "        log_likelihood = multivariate_normal.logpdf(np.zeros(1624), mean=s_estimated/prefactors1, \n",
    "                                                    cov=np.array(full_covariance))\n",
    "    \n",
    "        return log_prior_value + log_likelihood\n",
    "\n",
    "    return jax.lax.cond(\n",
    "        log_prior_value > -np.inf,  # Check if prior is valid\n",
    "        compute_likelihood,      # Compute likelihood if prior is valid\n",
    "        lambda _: -np.inf,      # Return -inf if prior is invalid\n",
    "        operand=None,\n",
    "    )"
   ]
  }
 ],
 "metadata": {
  "kernelspec": {
   "display_name": "Python 3 (ipykernel)",
   "language": "python",
   "name": "python3"
  },
  "language_info": {
   "codemirror_mode": {
    "name": "ipython",
    "version": 3
   },
   "file_extension": ".py",
   "mimetype": "text/x-python",
   "name": "python",
   "nbconvert_exporter": "python",
   "pygments_lexer": "ipython3",
   "version": "3.11.13"
  }
 },
 "nbformat": 4,
 "nbformat_minor": 5
}
