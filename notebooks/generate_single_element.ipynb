{
 "cells": [
  {
   "cell_type": "markdown",
   "id": "1a9d29c5",
   "metadata": {},
   "source": [
    "# Generating a single element of the covariance matrix\n",
    "The first step is to compute the integral for a single pair of objects:\n",
    "\n",
    "\\begin{aligned}\n",
    "    C^{\\rm (v)}_{mn} =& \n",
    "     \\frac{1}{2\\pi^2} \\frac{D_1(z_{ m})~D_1(z_{ n})}{D_1^2(0)}\\biggl[\\frac{H(z_{ m})f(z_{ m})}{(1+z_{ m})}\\biggr]  \\biggl[\\frac{H(z_{ n})f(z_{ n})}{(1+z_{ n})}\\biggr] \n",
    "   \\\\& \\int \\mathrm{d}k W_{mn}(k)\\mathcal{Z}(k,z_{ m},z_{ n})P_{\\delta}(k,0)  D_{\\rm u}^2(k\\sigma_{\\rm u})\\,E(\\sigma_8) \\, ,\n",
    "\\end{aligned}\n",
    "\n",
    "where the meaning of each term can be found in Sec. 2 of [our paper](https://arxiv.org/pdf/2504.10453). The most complex part, as you can imagine, is the integral of a heavily-oscillating function as the window function $W_{mn}(k)$. For that we use FFTLog, as implemented in [this repository](https://github.com/xfangcosmo/FFTLog-and-beyond). Make sure you install the code in the repository, as well as [CAMB](https://pypi.org/project/camb/), in order to run this notebook."
   ]
  },
  {
   "cell_type": "code",
   "execution_count": 1,
   "id": "725c2770",
   "metadata": {},
   "outputs": [],
   "source": [
    "import numpy as np\n",
    "import matplotlib.pyplot as plt\n",
    "from scipy import integrate\n",
    "import camb\n",
    "from camb import model, initialpower\n",
    "from fftlogx import fftlog\n",
    "from velocemu.utils import amplitude_W, window_function_w, D1z, prefactor_divergence, B_nonlin_prefac, D_nonlin_prefac,luminosity_distance"
   ]
  },
  {
   "cell_type": "code",
   "execution_count": 2,
   "id": "91f15683",
   "metadata": {},
   "outputs": [],
   "source": [
    "# set up a few parameters\n",
    "kmin = 1e-5 # I assume k in h/Mpc\n",
    "kmax = 1e2 # I assume k in h/Mpc\n",
    "nu = 1.0 # for fftlog\n",
    "N_extrap = 0 # for fftlog"
   ]
  },
  {
   "cell_type": "code",
   "execution_count": 3,
   "id": "05bfc94a",
   "metadata": {},
   "outputs": [],
   "source": [
    "def integrate_fftlog(z1, z2, alpha, Omat, H0, lnAs):\n",
    "    \"\"\"Compute a single element of the covariance matrix according to the integral above.\n",
    "    Parameters\n",
    "    ----------\n",
    "    z1 : float\n",
    "        The redshift of the first object.\n",
    "    z2 : float\n",
    "        The redshift of the second object.\n",
    "    alpha : float\n",
    "        The angle between the two ojects.\n",
    "    Omat : float\n",
    "        The matter density parameter at z=0, usually between 0.1 and 0.5.\n",
    "    H0 : float\n",
    "        The Hubble parameter at z=0, usually between 50 and 100.\n",
    "    lnAs : float\n",
    "        The natural logarithm of 10^10 A_s, where A_s is the amplitude of the primordial power spectrum.\n",
    "    \"\"\"\n",
    "    # first compute some useful quantities\n",
    "    As = 1e-10*np.exp(lnAs)\n",
    "    sigma8 = (0.8102 / (1e-10*np.exp(3.047))) * As # for the non linear corrections\n",
    "    r1 = luminosity_distance(z1, H0, Omat)\n",
    "    r2 = luminosity_distance(z2, H0, Omat)\n",
    "    \n",
    "    # then we compute the linear matter power spectrum\n",
    "    # so that we only have to call it once later\n",
    "    pars = camb.CAMBparams()\n",
    "    # fix ombh2 = 0.02242, based on Planck 2018 results\n",
    "    ombh2 = 0.02242\n",
    "    omch2 = Omat*(H0/100)**2 - ombh2\n",
    "    pars.set_cosmology(H0=H0, ombh2=ombh2, omch2=omch2)\n",
    "    pars.InitPower.set_params(ns=0.965, As=As) # k_star default\n",
    "    # only compute at redshift 0\n",
    "    pars.set_matter_power(redshifts=np.linspace(0., 2.5, 26), kmax=kmax)\n",
    "    # linear spectra only\n",
    "    pars.NonLinear = model.NonLinear_none # the nonlinearities come later\n",
    "    results = camb.get_results(pars)\n",
    "\n",
    "    PK = results.get_matter_power_interpolator(nonlinear=False, \n",
    "                                               hubble_units=True, # Pk in (Mpc / h)**3\n",
    "                                               k_hunit=True) # k in h/Mpc\n",
    "\n",
    "    # terms inside the integral, to compute the unequal-time term\n",
    "    def integrand_func(k):\n",
    "        return PK.P(0, k)*B_nonlin_prefac(k, sigma8)*D_nonlin_prefac(k)**2\n",
    "    k_nl, k_nl_error = integrate.quad(integrand_func, kmin, kmax, limit=100000000, epsabs=1.49e-12, epsrel=1.49e-12)\n",
    "    k_nl /= 12*np.pi*2 # this is actually k_nl**-2\n",
    "\n",
    "    # compute integral prefactor\n",
    "    D1 = D1z(z1, Omat)\n",
    "    D2 = D1z(z2, Omat)\n",
    "    prefac = prefactor_divergence(z1, z2, H0, Omat)\n",
    "    \n",
    "    # then actually start with the computation\n",
    "    if r1 == r2 and alpha == 0: # easy case\n",
    "        def integrand_func(k): # k should be in h/Mpc here\n",
    "            pk = PK.P(0, k)*B_nonlin_prefac(k, sigma8)*D_nonlin_prefac(k)**2 # redshift = 0, wavelength = k\n",
    "            # correction factor\n",
    "            corr = np.exp(-k**2 * k_nl * (D1-D2)**2)\n",
    "            # window function\n",
    "            W = window_function_w(k, r1, r2, alpha)\n",
    "            return pk * corr * W\n",
    "        final_value, _ = integrate.quad(integrand_func, kmin, kmax, limit=100000000, epsabs=1.49e-12, epsrel=1.49e-12)\n",
    "    else: # more complex case with FFTLog, we split it in 3\n",
    "        A = amplitude_W(r1, r2, alpha)\n",
    "        ks = np.logspace(np.log10(kmin), np.log10(kmax), 100000)        \n",
    "        def integrand_func_1(k): # k should be in h/Mpc here\n",
    "            # first part\n",
    "            g12 = np.cos(alpha) / 3\n",
    "            pk = PK.P(0, k) *B_nonlin_prefac(k, sigma8)*D_nonlin_prefac(k)**2# redshift = 0, wavelength = k\n",
    "            corr = np.exp(-k**2 * k_nl * (D1-D2)**2)\n",
    "            return pk * g12 * corr * k # last multiplication because fftlog divides by variable\n",
    "\n",
    "        integrand = integrand_func_1(ks)    \n",
    "        myfftlog = fftlog(ks, integrand, nu=nu, N_extrap_low=N_extrap, N_extrap_high=N_extrap, c_window_width=0.25, N_pad=5000)   \n",
    "        r, Fr = myfftlog.fftlog(0) # ell=0 is because we consider j0\n",
    "        # need to interpolate to get precise value, which is A (i.e. amplitude W)\n",
    "        interpolated_value_1 = np.interp([A], r, Fr)\n",
    "\n",
    "        def integrand_func_2(k): # k should be in h/Mpc here\n",
    "            # first part\n",
    "            g12 = -2 * np.cos(alpha) / 3\n",
    "            pk = PK.P(0, k) *B_nonlin_prefac(k, sigma8)*D_nonlin_prefac(k)**2# redshift = 0, wavelength = k\n",
    "            corr = np.exp(-k**2 * k_nl * (D1-D2)**2)\n",
    "            return pk * g12 * corr * k # last multiplication because fftlog divides by variable\n",
    "\n",
    "        integrand = integrand_func_2(ks)    \n",
    "        myfftlog = fftlog(ks, integrand, nu=nu, N_extrap_low=N_extrap, N_extrap_high=N_extrap, c_window_width=0.25, N_pad=5000)   \n",
    "        r, Fr = myfftlog.fftlog(2) # ell=2 is because we consider j2\n",
    "        # need to interpolate to get precise value, which is A (i.e. amplitude W)\n",
    "        interpolated_value_2 = np.interp([A], r, Fr)\n",
    "\n",
    "\n",
    "        def integrand_func_3(k): # k should be in h/Mpc here\n",
    "            # first part\n",
    "            g12 = r1 * r2 * (np.sin(alpha))**2 / A**2\n",
    "            pk = PK.P(0, k) *B_nonlin_prefac(k, sigma8)*D_nonlin_prefac(k)**2 # redshift = 0, wavelength = k\n",
    "            corr = np.exp(-k**2 * k_nl * (D1-D2)**2)\n",
    "            return pk * g12 * corr * k # last multiplication because fftlog divides by variable\n",
    "\n",
    "        integrand = integrand_func_3(ks)    \n",
    "        myfftlog = fftlog(ks, integrand, nu=nu, N_extrap_low=N_extrap, N_extrap_high=N_extrap, c_window_width=0.25, N_pad=5000)   \n",
    "        r, Fr = myfftlog.fftlog(2) # ell=2 is because we consider j2\n",
    "        # need to interpolate to get precise value, which is A (i.e. amplitude W)\n",
    "        interpolated_value_3 = np.interp([A], r, Fr)\n",
    "        \n",
    "        # then we sum up all values\n",
    "        final_value = (interpolated_value_1+interpolated_value_2+interpolated_value_3)[0]\n",
    "    \n",
    "    # and we multiply by all prefactor terms\n",
    "    final_value *= prefac * D1 * D2/(2 * np.pi**2 * D1z(0, Omat)**2)\n",
    "    return final_value"
   ]
  },
  {
   "cell_type": "markdown",
   "id": "6f24519b",
   "metadata": {},
   "source": [
    "Now let's try it for a pair of objects with redshift $z_1$ and $z_2$, angle $\\alpha$, and a cosmological model with $\\Omega_\\textrm{m}=0.35$, $H_0=70$ km/s/Mpc, and $\\log{10^{10}A_\\textrm{s}=3.1}$"
   ]
  },
  {
   "cell_type": "code",
   "execution_count": 4,
   "id": "338fd277",
   "metadata": {},
   "outputs": [],
   "source": [
    "z1, z2, alpha, Omat, H0, lnAs = 0.2, 0.1, 1., 0.35, 70., 3.1"
   ]
  },
  {
   "cell_type": "code",
   "execution_count": 5,
   "id": "c16a49b9",
   "metadata": {},
   "outputs": [
    {
     "name": "stdout",
     "output_type": "stream",
     "text": [
      "Note: redshifts have been re-sorted (earliest first)\n"
     ]
    },
    {
     "name": "stderr",
     "output_type": "stream",
     "text": [
      "/tmp/ipykernel_934363/1950520976.py:45: IntegrationWarning: The occurrence of roundoff error is detected, which prevents \n",
      "  the requested tolerance from being achieved.  The error may be \n",
      "  underestimated.\n",
      "  k_nl, k_nl_error = integrate.quad(integrand_func, kmin, kmax, limit=100000000, epsabs=1.49e-12, epsrel=1.49e-12)\n"
     ]
    },
    {
     "name": "stdout",
     "output_type": "stream",
     "text": [
      "The value of the integral is: 150.5531238524841\n"
     ]
    }
   ],
   "source": [
    "integral_value = integrate_fftlog(z1, z2, alpha, Omat, H0, lnAs)\n",
    "print(f'The value of the integral is: {integral_value}')"
   ]
  },
  {
   "cell_type": "code",
   "execution_count": 6,
   "id": "542cbe97",
   "metadata": {},
   "outputs": [
    {
     "data": {
      "text/plain": [
       "150.5531238524841"
      ]
     },
     "execution_count": 6,
     "metadata": {},
     "output_type": "execute_result"
    }
   ],
   "source": []
  }
 ],
 "metadata": {
  "kernelspec": {
   "display_name": "Python 3 (ipykernel)",
   "language": "python",
   "name": "python3"
  },
  "language_info": {
   "codemirror_mode": {
    "name": "ipython",
    "version": 3
   },
   "file_extension": ".py",
   "mimetype": "text/x-python",
   "name": "python",
   "nbconvert_exporter": "python",
   "pygments_lexer": "ipython3",
   "version": "3.11.13"
  }
 },
 "nbformat": 4,
 "nbformat_minor": 5
}
